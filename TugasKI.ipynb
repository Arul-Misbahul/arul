{
  "nbformat": 4,
  "nbformat_minor": 0,
  "metadata": {
    "colab": {
      "provenance": []
    },
    "kernelspec": {
      "name": "python3",
      "display_name": "Python 3"
    },
    "language_info": {
      "name": "python"
    }
  },
  "cells": [
    {
      "cell_type": "code",
      "source": [
        "!pip install pycryptodome\n",
        "from Crypto.Cipher import AES\n",
        "from Crypto.Random import get_random_bytes\n",
        "from Crypto.Util.Padding import pad, unpad\n",
        "import base64\n",
        "\n",
        "def encrypt_AES(message, key):\n",
        "    cipher = AES.new(key, AES.MODE_CBC)\n",
        "    ciphertext_bytes = cipher.encrypt(pad(message.encode(), AES.block_size))\n",
        "    iv = base64.b64encode(cipher.iv).decode('utf-8')\n",
        "    ciphertext = base64.b64encode(ciphertext_bytes).decode('utf-8')\n",
        "    return iv, ciphertext\n",
        "\n",
        "def decrypt_AES(iv, ciphertext, key):\n",
        "    cipher = AES.new(key, AES.MODE_CBC, base64.b64decode(iv))\n",
        "    decrypted_bytes = cipher.decrypt(base64.b64decode(ciphertext))\n",
        "    decrypted_message = unpad(decrypted_bytes, AES.block_size).decode('utf-8')\n",
        "    return decrypted_message\n",
        "\n",
        "# Contoh penggunaan:\n",
        "key = get_random_bytes(16)  # Membuat kunci acak 128-bit (16 byte)\n",
        "message = input(\"Masukan Pesan Yang akan di Enkripsi\")\n",
        "\n",
        "iv, ciphertext = encrypt_AES(message, key)\n",
        "print(\"Pesan Terenkripsi:\", ciphertext)\n",
        "\n",
        "decrypted_message = decrypt_AES(iv, ciphertext, key)\n",
        "print(\"Pesan Terdekripsi:\", decrypted_message)\n"
      ],
      "metadata": {
        "colab": {
          "base_uri": "https://localhost:8080/"
        },
        "id": "xdVBjI_weA7H",
        "outputId": "37e6345b-ccb6-49cc-cce2-3c94faa86bec"
      },
      "execution_count": 7,
      "outputs": [
        {
          "output_type": "stream",
          "name": "stdout",
          "text": [
            "Requirement already satisfied: pycryptodome in /usr/local/lib/python3.10/dist-packages (3.20.0)\n",
            "Masukan Pesan Yang akan di Enkripsiarul ganteng\n",
            "Pesan Terenkripsi: sprxGx57rpQUvX9QezEYgg==\n",
            "Pesan Terdekripsi: arul ganteng\n"
          ]
        }
      ]
    }
  ]
}